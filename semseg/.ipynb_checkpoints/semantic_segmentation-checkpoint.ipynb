{
 "cells": [
  {
   "cell_type": "markdown",
   "metadata": {},
   "source": [
    "# Semantic Segmentation\n",
    "\n",
    "In this exercise we will implement a convolutional neural network for semantic segmentation.\n",
    "The goal of semantic segmentation is to classify the image on the pixel level, for each pixel\n",
    "we want to determine the class of the object to which it belongs.\n",
    "\n",
    "Input image | Target image\n",
    "-|-\n",
    "![raw](assets/frankfurt_000000_014480.png) | ![raw](assets/frankfurt_000000_014480_labels.png)\n",
    "![raw](assets/frankfurt_000001_005898.png) | ![raw](assets/frankfurt_000001_005898_labels.png)\n"
   ]
  },
  {
   "cell_type": "markdown",
   "metadata": {},
   "source": [
    "## 1. Cityscapes dataset\n",
    "\n",
    "[Cityscapes dataset](https://www.cityscapes-dataset.com/dataset-overview/) contains a diverse set of stereo video sequences recorded in street scenes from 50 different cities, with high quality pixel-level annotations. Dataset contains 2975 training and 500 validation images of size 2048x1024. Here we will use downsampled images of size 384x160. The original dataset has 19 classes but we lower that to 7 due to low visibility of very small objects in downsampled images. We also have ignore class which we need to ignore during training.\n",
    "\n",
    "ID | Class | Color\n",
    "-|-|-\n",
    "0 | road | purple\n",
    "1 | building | grey\n",
    "2 | infrastructure | yellow\n",
    "3 | nature\n",
    "4 | sky\n",
    "5 | person\n",
    "6 | vehicle\n",
    "7 | ignore"
   ]
  },
  {
   "cell_type": "markdown",
   "metadata": {},
   "source": [
    "## 2. Building the graph\n",
    "\n",
    "Let's begin by importing all the modules and setting the fixed random seed."
   ]
  },
  {
   "cell_type": "code",
   "execution_count": 1,
   "metadata": {},
   "outputs": [
    {
     "data": {
      "image/png": "[encoded data removed]",
      "text/plain": [
       "<matplotlib.figure.Figure at 0x7fb92c5dd978>"
      ]
     },
     "metadata": {},
     "output_type": "display_data"
    }
   ],
   "source": [
    "#%matplotlib notebook\n",
    "%matplotlib inline\n",
    "#%pylab inline\n",
    "#pylab.rcParams['figure.figsize'] = (10, 6)\n",
    "\n",
    "#%load_ext autoreload\n",
    "#%autoreload 2\n",
    "\n",
    "import time\n",
    "from os.path import join\n",
    "\n",
    "import tensorflow as tf\n",
    "import numpy as np\n",
    "import matplotlib.pyplot as plt\n",
    "from sklearn.metrics import confusion_matrix\n",
    "\n",
    "import utils\n",
    "from data import Dataset\n",
    "\n",
    "tf.set_random_seed(31415)\n",
    "plt.axis('off')\n",
    "plt.xticks([], [])\n",
    "plt.rcParams[\"figure.figsize\"] = (15, 5)"
   ]
  },
  {
   "cell_type": "markdown",
   "metadata": {},
   "source": [
    "### Dataset\n",
    "\n",
    "The `Dataset` class implements an iterator which returns the next batch data in each iteration. Data is already normalized to have zero mean and unit variance. The iteration is terminated when we reach the end of the dataset (one epoch)."
   ]
  },
  {
   "cell_type": "code",
   "execution_count": 2,
   "metadata": {},
   "outputs": [
    {
     "name": "stdout",
     "output_type": "stream",
     "text": [
      "Train shape: (2975, 160, 384, 3)\n",
      "Validation shape: (500, 160, 384, 3)\n"
     ]
    },
    {
     "ename": "KeyboardInterrupt",
     "evalue": "",
     "output_type": "error",
     "traceback": [
      "\u001b[0;31m---------------------------------------------------------------------------\u001b[0m",
      "\u001b[0;31mKeyboardInterrupt\u001b[0m                         Traceback (most recent call last)",
      "\u001b[0;32m<ipython-input-2-ef79df4edd9d>\u001b[0m in \u001b[0;36m<module>\u001b[0;34m()\u001b[0m\n\u001b[1;32m      8\u001b[0m \u001b[0mprint\u001b[0m\u001b[0;34m(\u001b[0m\u001b[0;34m'Validation shape:'\u001b[0m\u001b[0;34m,\u001b[0m \u001b[0mval_data\u001b[0m\u001b[0;34m.\u001b[0m\u001b[0mx\u001b[0m\u001b[0;34m.\u001b[0m\u001b[0mshape\u001b[0m\u001b[0;34m)\u001b[0m\u001b[0;34m\u001b[0m\u001b[0m\n\u001b[1;32m      9\u001b[0m \u001b[0;34m\u001b[0m\u001b[0m\n\u001b[0;32m---> 10\u001b[0;31m \u001b[0mprint\u001b[0m\u001b[0;34m(\u001b[0m\u001b[0;34m'mean = '\u001b[0m\u001b[0;34m,\u001b[0m \u001b[0mtrain_data\u001b[0m\u001b[0;34m.\u001b[0m\u001b[0mx\u001b[0m\u001b[0;34m.\u001b[0m\u001b[0mmean\u001b[0m\u001b[0;34m(\u001b[0m\u001b[0;34m(\u001b[0m\u001b[0;36m0\u001b[0m\u001b[0;34m,\u001b[0m\u001b[0;36m1\u001b[0m\u001b[0;34m,\u001b[0m\u001b[0;36m2\u001b[0m\u001b[0;34m)\u001b[0m\u001b[0;34m)\u001b[0m\u001b[0;34m)\u001b[0m\u001b[0;34m\u001b[0m\u001b[0m\n\u001b[0m\u001b[1;32m     11\u001b[0m \u001b[0mprint\u001b[0m\u001b[0;34m(\u001b[0m\u001b[0;34m'std = '\u001b[0m\u001b[0;34m,\u001b[0m \u001b[0mtrain_data\u001b[0m\u001b[0;34m.\u001b[0m\u001b[0mx\u001b[0m\u001b[0;34m.\u001b[0m\u001b[0mstd\u001b[0m\u001b[0;34m(\u001b[0m\u001b[0;34m(\u001b[0m\u001b[0;36m0\u001b[0m\u001b[0;34m,\u001b[0m\u001b[0;36m1\u001b[0m\u001b[0;34m,\u001b[0m\u001b[0;36m2\u001b[0m\u001b[0;34m)\u001b[0m\u001b[0;34m)\u001b[0m\u001b[0;34m)\u001b[0m\u001b[0;34m\u001b[0m\u001b[0m\n\u001b[1;32m     12\u001b[0m \u001b[0;34m\u001b[0m\u001b[0m\n",
      "\u001b[0;32m/usr/lib/python3.6/site-packages/numpy/core/_methods.py\u001b[0m in \u001b[0;36m_mean\u001b[0;34m(a, axis, dtype, out, keepdims)\u001b[0m\n\u001b[1;32m     68\u001b[0m             \u001b[0mis_float16_result\u001b[0m \u001b[0;34m=\u001b[0m \u001b[0;32mTrue\u001b[0m\u001b[0;34m\u001b[0m\u001b[0m\n\u001b[1;32m     69\u001b[0m \u001b[0;34m\u001b[0m\u001b[0m\n\u001b[0;32m---> 70\u001b[0;31m     \u001b[0mret\u001b[0m \u001b[0;34m=\u001b[0m \u001b[0mumr_sum\u001b[0m\u001b[0;34m(\u001b[0m\u001b[0marr\u001b[0m\u001b[0;34m,\u001b[0m \u001b[0maxis\u001b[0m\u001b[0;34m,\u001b[0m \u001b[0mdtype\u001b[0m\u001b[0;34m,\u001b[0m \u001b[0mout\u001b[0m\u001b[0;34m,\u001b[0m \u001b[0mkeepdims\u001b[0m\u001b[0;34m)\u001b[0m\u001b[0;34m\u001b[0m\u001b[0m\n\u001b[0m\u001b[1;32m     71\u001b[0m     \u001b[0;32mif\u001b[0m \u001b[0misinstance\u001b[0m\u001b[0;34m(\u001b[0m\u001b[0mret\u001b[0m\u001b[0;34m,\u001b[0m \u001b[0mmu\u001b[0m\u001b[0;34m.\u001b[0m\u001b[0mndarray\u001b[0m\u001b[0;34m)\u001b[0m\u001b[0;34m:\u001b[0m\u001b[0;34m\u001b[0m\u001b[0m\n\u001b[1;32m     72\u001b[0m         ret = um.true_divide(\n",
      "\u001b[0;31mKeyboardInterrupt\u001b[0m: "
     ]
    }
   ],
   "source": [
    "batch_size = 10\n",
    "num_classes = Dataset.num_classes\n",
    "# create the Dataset for training and validation\n",
    "train_data = Dataset('train', batch_size)\n",
    "val_data = Dataset('val', batch_size, shuffle=False)\n",
    "\n",
    "print('Train shape:', train_data.x.shape)\n",
    "print('Validation shape:', val_data.x.shape)\n",
    "\n",
    "print('mean = ', train_data.x.mean((0,1,2)))\n",
    "print('std = ', train_data.x.std((0,1,2)))\n",
    "\n",
    "# store the input image dimensions\n",
    "height = train_data.height\n",
    "width = train_data.width\n",
    "channels = train_data.channels"
   ]
  },
  {
   "cell_type": "markdown",
   "metadata": {},
   "source": [
    "### Inputs\n",
    "\n",
    "First, we will create input placeholders for Tensorflow computational graph of the model. For a supervised learning model, we need to declare placeholders which will hold input images (x) and target labels (y) of the mini-batches as\n",
    "we feed them to the network."
   ]
  },
  {
   "cell_type": "code",
   "execution_count": null,
   "metadata": {
    "collapsed": true
   },
   "outputs": [],
   "source": [
    "# create placeholders for inputs\n",
    "def build_inputs():\n",
    "    with tf.name_scope('data'):\n",
    "        x = tf.placeholder(tf.float32, shape=(None, height, width, channels), name='rgb_images')\n",
    "        y = tf.placeholder(tf.int32, shape=(None, height, width), name='labels')\n",
    "    return x, y"
   ]
  },
  {
   "cell_type": "markdown",
   "metadata": {},
   "source": [
    "### Model\n",
    "\n",
    "Now we can define the computational graph. Here we will heavily use [`tf.layers`](https://www.tensorflow.org/api_docs/python/tf/layers) high level API."
   ]
  },
  {
   "cell_type": "code",
   "execution_count": null,
   "metadata": {
    "collapsed": true
   },
   "outputs": [],
   "source": [
    "# helper function which applies conv2d + ReLU\n",
    "def conv(x, num_maps, k=3):\n",
    "    x = tf.layers.conv2d(x, num_maps, k, padding='same')\n",
    "    x = tf.nn.relu(x)\n",
    "    return x\n",
    "\n",
    "# helper function for 2x2 max pooling with stride=2\n",
    "def pool(x):\n",
    "    return tf.layers.max_pooling2d(x, pool_size=2, strides=2, padding='same')\n",
    "\n",
    "# this functions takes the input placeholder and the number of classes and builds the model\n",
    "def build_model(x, num_classes):\n",
    "    input_size = x.get_shape().as_list()[1:3]\n",
    "    block_sizes = [64, 64, 64, 64]\n",
    "    x = conv(x, 32, k=3)\n",
    "    for i, size in enumerate(block_sizes):\n",
    "        with tf.name_scope('block'+str(i)):\n",
    "            x = pool(x)\n",
    "            x = conv(x, size)\n",
    "            # x = conv(x, size)\n",
    "    print(x)\n",
    "    with tf.name_scope('logits'):\n",
    "        x = tf.layers.conv2d(x, num_classes, 1, padding='same')\n",
    "        x = tf.image.resize_bilinear(x, input_size, name='upsample_logits')\n",
    "    return x"
   ]
  },
  {
   "cell_type": "markdown",
   "metadata": {},
   "source": [
    "### Loss\n",
    "\n",
    "Now we are going to implement the `build_loss` funcion which will create operations for our loss and return the final `tf.Tensor` holding the scalar loss value.\n",
    "Because segmentation is just classificaion on a pixel level we can again use the cross-entropy loss function \\\\(L\\\\) between the target one-hot distribution \\\\( \\mathbf{y} \\\\) and the predicted distribution from a softmax layer \\\\( \\mathbf{s} \\\\). But compared to image clasificaion here we need to define the loss at each pixel. Below are the equations describing the loss for one example (one pixel in our case).\n",
    "$$\n",
    "L = - \\sum_{i=1}^{C} y_i log(s_j(\\mathbf{x})) \\\\\n",
    "s_i(\\mathbf{x}) = \\frac{e^{x_i}}{\\sum_{j=1}^{C} e^{x_j}} \\\\\n",
    "$$"
   ]
  },
  {
   "cell_type": "code",
   "execution_count": null,
   "metadata": {
    "collapsed": true
   },
   "outputs": [],
   "source": [
    "def build_loss(logits, y):\n",
    "  with tf.name_scope('loss'):\n",
    "    y = tf.reshape(y, shape=[-1])\n",
    "    logits = tf.reshape(logits, [-1, num_classes])\n",
    "\n",
    "    mask = y < num_classes\n",
    "    y = tf.boolean_mask(y, mask)\n",
    "    logits = tf.boolean_mask(logits, mask)\n",
    "\n",
    "    y_one_hot = tf.one_hot(y, num_classes)\n",
    "    xent = tf.nn.softmax_cross_entropy_with_logits(logits=logits, labels=y_one_hot)\n",
    "\n",
    "    xent = tf.reduce_mean(xent)\n",
    "    tf.summary.scalar('cross_entropy', xent)\n",
    "    return xent"
   ]
  },
  {
   "cell_type": "markdown",
   "metadata": {},
   "source": [
    "### Putting it all together"
   ]
  },
  {
   "cell_type": "code",
   "execution_count": null,
   "metadata": {},
   "outputs": [],
   "source": [
    "x, y = build_inputs()\n",
    "logits = build_model(x, num_classes)\n",
    "loss = build_loss(logits, y)\n",
    "y_pred = tf.argmax(logits, axis=3, output_type=tf.int32)"
   ]
  },
  {
   "cell_type": "markdown",
   "metadata": {},
   "source": [
    "## 3. Training the model"
   ]
  },
  {
   "cell_type": "markdown",
   "metadata": {},
   "source": [
    "### Validation\n",
    "\n",
    "We usually evaluate the semantic segmentation results with [Intersection over Union](https://en.wikipedia.org/wiki/Jaccard_index) measure (IoU aka Jaccard index). Note that accurracy we used on MNIST image classification problem is a bad measure in this case because semantic segmentation datasets are often heavily imbalanced. First we compute IoU for each class in one-vs-all fashion (shown below) and then take the mean IoU (mIoU) over all classes. By taking the mean we are treating all classes as equally important.\n",
    "$$\n",
    "IOU = \\frac{TP}{TP + FN + FP}\n",
    "$$\n",
    "\n",
    "![iou](assets/iou.png)"
   ]
  },
  {
   "cell_type": "code",
   "execution_count": null,
   "metadata": {},
   "outputs": [],
   "source": [
    "\n",
    "def validate(data, x, y, y_pred, loss, draw=True):\n",
    "    print('\\nValidation phase:')\n",
    "    conf_mat = np.zeros((num_classes, num_classes), dtype=np.uint64) \n",
    "    for i, (x_np, y_np, names) in enumerate(data):\n",
    "        start_time = time.time()\n",
    "        loss_np, y_pred_np = sess.run([loss, y_pred],\n",
    "          feed_dict={x: x_np, y: y_np})\n",
    "\n",
    "        duration = time.time() - start_time\n",
    "        batch_conf_mat = confusion_matrix(y_np.reshape(-1), y_pred_np.reshape(-1))\n",
    "        batch_conf_mat = batch_conf_mat[:-1,:-1].astype(np.uint64)\n",
    "        conf_mat += batch_conf_mat\n",
    "\n",
    "        #     for i, name in enumerate(names):\n",
    "        if draw and i == 0:\n",
    "            for j in range(5):\n",
    "                img_pred = utils.colorize_labels(y_pred_np[j], Dataset.class_info)\n",
    "                img_true = utils.colorize_labels(y_np[j], Dataset.class_info)\n",
    "                img_raw = data.get_img(names[j])\n",
    "                img = np.concatenate((img_raw, img_true, img_pred), axis=1)\n",
    "                plt.imshow(img)\n",
    "                plt.show()\n",
    "        # save_path = join(save_dir, '%03d'%i + '.png')\n",
    "        # utils.draw_output(y_pred_np[0]fix, Dataset.class_info, save_path=save_path)\n",
    "\n",
    "        # utils.draw_labels(y_pred_np, names, Dataset.class_info,\n",
    "        #                   'local/output/predictions')\n",
    "        #utils.draw_labels(y_np, names, Dataset.class_info,\n",
    "        #                  'local/output/labels')\n",
    "\n",
    "        if i % 10 == 0:\n",
    "            string = 'batch %03d loss = %.2f  (%.1f images/sec)' % \\\n",
    "            (i, loss_np, x_np.shape[0] / duration)\n",
    "            print(string)\n",
    "    print(conf_mat)\n",
    "    return utils.print_stats(conf_mat, 'Validation', Dataset.class_info)"
   ]
  },
  {
   "cell_type": "markdown",
   "metadata": {},
   "source": [
    "### Training"
   ]
  },
  {
   "cell_type": "code",
   "execution_count": null,
   "metadata": {},
   "outputs": [],
   "source": [
    "num_epochs = 30\n",
    "batch_size = 10\n",
    "save_dir = 'local/output/'\n",
    "\n",
    "learning_rate = 1e-3\n",
    "decay_power = 1.0\n",
    "\n",
    "global_step = tf.Variable(0, trainable=False)\n",
    "decay_steps = num_epochs * train_data.num_batches\n",
    "\n",
    "lr = tf.train.polynomial_decay(learning_rate, global_step, decay_steps,\n",
    "                               end_learning_rate=0, power=decay_power)\n",
    "\n",
    "train_step = tf.train.AdamOptimizer(lr).minimize(loss, global_step=global_step)\n",
    "\n",
    "log_dir = 'local/logs'\n",
    "checkpoint_dir = 'local/checkpoints'\n",
    "utils.clear_dir(log_dir)\n",
    "utils.clear_dir(checkpoint_dir)\n",
    "\n",
    "saver = tf.train.Saver()\n",
    "\n",
    "sess = tf.Session()\n",
    "\n",
    "summary_all = tf.summary.merge_all()\n",
    "train_writer = tf.summary.FileWriter(join(log_dir, 'train'), sess.graph)\n",
    "# test_writer = tf.summary.FileWriter()\n",
    "\n",
    "tf.global_variables_initializer().run(session=sess)\n",
    "\n",
    "step = 0\n",
    "best_iou = 0\n",
    "best_epoch = 0\n",
    "exp_start_time = time.time()\n",
    "for epoch in range(1, num_epochs+1):\n",
    "    # confusion_mat = np.zeros((num_classes, num_classes), dtype=np.uint64)\n",
    "    print('\\nTraining phase:')\n",
    "    for x_np, y_np, names in train_data:\n",
    "#         if step > 10:\n",
    "#             break\n",
    "        start_time = time.time()\n",
    "        # batch_loss, batch_conf_mat, _ = sess.run([loss, conf_mat, train_step],\n",
    "        # loss_np, _ = sess.run([loss, train_step],\n",
    "        #   feed_dict={x: x_np, y: y_np, is_training: True})\n",
    "        loss_np, summary, _ = sess.run([loss, summary_all, train_step],\n",
    "        feed_dict={x: x_np, y: y_np})\n",
    "        train_writer.add_summary(summary, step)\n",
    "        duration = time.time() - start_time\n",
    "        # confusion_mat += batch_conf_mat.astype(np.uint64)\n",
    "        if step % 20 == 0:\n",
    "            string = '%s: epoch %d / %d, iter %05d, loss = %.2f  (%.1f images/sec)' % \\\n",
    "            (utils.get_expired_time(exp_start_time), epoch, num_epochs, step, loss_np, batch_size / duration)\n",
    "            print(string)\n",
    "        step += 1\n",
    "  # utils.print_metrics(confusion_mat, 'Train') \n",
    "    iou = validate(val_data, x, y, y_pred, loss)\n",
    "    if iou > best_iou:\n",
    "        best_iou, best_epoch = iou, epoch\n",
    "        save_path = saver.save(sess, checkpoint_dir)\n",
    "        print('Model saved in file: ', save_path)\n",
    "    print('\\nBest IoU = %.2f (epoch %d)' % (best_iou, best_epoch))"
   ]
  },
  {
   "cell_type": "markdown",
   "metadata": {},
   "source": [
    "## 4. Visualizing the results"
   ]
  },
  {
   "cell_type": "code",
   "execution_count": null,
   "metadata": {
    "collapsed": true
   },
   "outputs": [],
   "source": [
    "# restore the best checkpoint\n",
    "saver.restore()"
   ]
  },
  {
   "cell_type": "markdown",
   "metadata": {},
   "source": [
    "## Day 4"
   ]
  },
  {
   "cell_type": "markdown",
   "metadata": {
    "collapsed": true
   },
   "source": [
    "## 5. Improved model with skip connections\n",
    "\n",
    "TODO slika"
   ]
  },
  {
   "cell_type": "code",
   "execution_count": null,
   "metadata": {
    "collapsed": true
   },
   "outputs": [],
   "source": [
    "sess.close()\n",
    "tf.reset_default_graph()\n",
    "build_model()\n",
    "train again"
   ]
  },
  {
   "cell_type": "code",
   "execution_count": null,
   "metadata": {
    "collapsed": true
   },
   "outputs": [],
   "source": []
  }
 ],
 "metadata": {
  "kernelspec": {
   "display_name": "Python 3",
   "language": "python",
   "name": "python3"
  },
  "language_info": {
   "codemirror_mode": {
    "name": "ipython",
    "version": 3
   },
   "file_extension": ".py",
   "mimetype": "text/x-python",
   "name": "python",
   "nbconvert_exporter": "python",
   "pygments_lexer": "ipython3",
   "version": "3.6.2"
  }
 },
 "nbformat": 4,
 "nbformat_minor": 2
}
