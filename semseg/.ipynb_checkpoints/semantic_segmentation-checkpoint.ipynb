{
 "cells": [
  {
   "cell_type": "markdown",
   "metadata": {},
   "source": [
    "# Semantic Segmentation\n",
    "\n",
    "In this exercise we will implement a convolutional neural network for semantic segmentation.\n",
    "The goal of semantic segmentation is to classify the image on the pixel level, for each pixel\n",
    "we want to determine the class of the object which it belongs to.\n",
    "\n",
    "\n"
   ]
  },
  {
   "cell_type": "markdown",
   "metadata": {},
   "source": [
    "## 1. Cityscapes dataset\n",
    "\n",
    "[Cityscapes dataset](https://www.cityscapes-dataset.com/dataset-overview/) contains a diverse set of stereo video sequences recorded in street scenes from 50 different cities, with high quality pixel-level annotations. Dataset contains 2975 training and 500 validation images of size 2048x1024. Here we will use downsampled images of size 384x160. The original dataset has 19 classes but we lower that to 7 due to low visibility of very small objects in downsampled images.\n",
    "\n",
    "0-road\n",
    "1-building\n",
    "2-infrastructure\n",
    "3-nature\n",
    "4-sky\n",
    "5-person\n",
    "6-vehicle\n",
    "7-ignore"
   ]
  },
  {
   "cell_type": "markdown",
   "metadata": {},
   "source": [
    "## 2. Building the graph\n",
    "\n",
    "Let's begin by importing all the modules and setting the fixed random seed."
   ]
  },
  {
   "cell_type": "code",
   "execution_count": 13,
   "metadata": {
    "collapsed": true
   },
   "outputs": [],
   "source": [
    "import time\n",
    "\n",
    "import tensorflow as tf\n",
    "import numpy as np\n",
    "\n",
    "import utils\n",
    "from data import Dataset\n",
    "\n",
    "tf.set_random_seed(31415)"
   ]
  },
  {
   "cell_type": "markdown",
   "metadata": {},
   "source": [
    "### Dataset\n",
    "\n",
    "The `Dataset` class implements an iterator which returns the next batch data in each iteration. Data is already normalized to have zero mean and unit variance. The iteration is terminated when we reach the end of the dataset (one epoch)."
   ]
  },
  {
   "cell_type": "code",
   "execution_count": 12,
   "metadata": {},
   "outputs": [
    {
     "name": "stdout",
     "output_type": "stream",
     "text": [
      "Train shape: (2975, 160, 384, 3)\n",
      "Validation shape: (500, 160, 384, 3)\n",
      "mean =  [-0.03841928 -0.04215339 -0.05894543]\n",
      "std =  [ 1.01808784  1.02022915  1.02732566]\n"
     ]
    }
   ],
   "source": [
    "batch_size = 10\n",
    "# create the Dataset for training and validation\n",
    "train_data = Dataset('train', batch_size)\n",
    "val_data = Dataset('val', batch_size, shuffle=False)\n",
    "\n",
    "print('Train shape:', train_data.x.shape)\n",
    "print('Validation shape:', val_data.x.shape)\n",
    "\n",
    "print('mean = ', train_data.x.mean((0,1,2)))\n",
    "print('std = ', train_data.x.std((0,1,2)))\n",
    "\n",
    "# store the input image dimensions\n",
    "height = train_data.height\n",
    "width = train_data.width\n",
    "channels = train_data.channels"
   ]
  },
  {
   "cell_type": "markdown",
   "metadata": {},
   "source": [
    "### Inputs\n",
    "\n",
    "First, we will create input placeholders for Tensorflow computational graph of the model. For a supervised learning model, we need to declare placeholders which will hold input images (x) and target labels (y) of the mini-batches as\n",
    "we feed them to the network."
   ]
  },
  {
   "cell_type": "code",
   "execution_count": 15,
   "metadata": {
    "collapsed": true
   },
   "outputs": [],
   "source": [
    "# create placeholders for inputs\n",
    "def build_inputs():\n",
    "    with tf.name_scope('data'):\n",
    "        x = tf.placeholder(tf.float32, shape=(None, height, width, channels), name='rgb_images')\n",
    "        y = tf.placeholder(tf.int32, shape=(None, height, width), name='labels')\n",
    "    return x, y"
   ]
  },
  {
   "cell_type": "markdown",
   "metadata": {},
   "source": [
    "### Model\n",
    "\n",
    "Now we can define the computational graph. Here we will heavily use [`tf.layers`](https://www.tensorflow.org/api_docs/python/tf/layers) high level API."
   ]
  },
  {
   "cell_type": "code",
   "execution_count": null,
   "metadata": {
    "collapsed": true
   },
   "outputs": [],
   "source": []
  },
  {
   "cell_type": "markdown",
   "metadata": {},
   "source": [
    "### Loss\n",
    "\n",
    "Now we are going to implement the `build_loss` funcion which will create operations for our loss and return the final `tf.Tensor` holding the scalar loss value.\n",
    "Because segmentation is just classificaion on a pixel level we can again use the cross-entropy loss function \\\\(L\\\\) between the target one-hot distribution \\\\( \\mathbf{y} \\\\) and the predicted distribution from a softmax layer \\\\( \\mathbf{s} \\\\). But compared to image clasificaion here we need to define the loss at each pixel. Below are the equations describing the loss for one example (one pixel in our case).\n",
    "$$\n",
    "L = - \\sum_{i=1}^{C} y_i log(s_j(\\mathbf{x})) \\\\\n",
    "s_i(\\mathbf{x}) = \\frac{e^{x_i}}{\\sum_{j=1}^{C} e^{x_j}} \\\\\n",
    "$$"
   ]
  },
  {
   "cell_type": "code",
   "execution_count": 19,
   "metadata": {
    "collapsed": true
   },
   "outputs": [],
   "source": [
    "def build_loss(logits, y):\n",
    "  with tf.name_scope('loss'):\n",
    "    y = tf.reshape(y, shape=[-1])\n",
    "    logits = tf.reshape(logits, [-1, num_classes])\n",
    "\n",
    "    mask = y < num_classes\n",
    "    y = tf.boolean_mask(y, mask)\n",
    "    logits = tf.boolean_mask(logits, mask)\n",
    "\n",
    "    y_one_hot = tf.one_hot(y, num_classes)\n",
    "    xent = tf.nn.softmax_cross_entropy_with_logits(logits=logits, labels=y_one_hot)\n",
    "\n",
    "    xent = tf.reduce_mean(xent)\n",
    "    tf.summary.scalar('cross_entropy', xent)\n",
    "    loss = add_regularization(xent)\n",
    "    return loss"
   ]
  },
  {
   "cell_type": "markdown",
   "metadata": {},
   "source": [
    "### Putting it all together"
   ]
  },
  {
   "cell_type": "code",
   "execution_count": 10,
   "metadata": {},
   "outputs": [
    {
     "ename": "NameError",
     "evalue": "name 'build_inputs' is not defined",
     "output_type": "error",
     "traceback": [
      "\u001b[0;31m---------------------------------------------------------------------------\u001b[0m",
      "\u001b[0;31mNameError\u001b[0m                                 Traceback (most recent call last)",
      "\u001b[0;32m<ipython-input-10-4438f9f365d5>\u001b[0m in \u001b[0;36m<module>\u001b[0;34m()\u001b[0m\n\u001b[0;32m----> 1\u001b[0;31m \u001b[0mx\u001b[0m\u001b[0;34m,\u001b[0m \u001b[0my\u001b[0m \u001b[0;34m=\u001b[0m \u001b[0mbuild_inputs\u001b[0m\u001b[0;34m(\u001b[0m\u001b[0;34m)\u001b[0m\u001b[0;34m\u001b[0m\u001b[0m\n\u001b[0m\u001b[1;32m      2\u001b[0m \u001b[0mlogits\u001b[0m\u001b[0;34m,\u001b[0m \u001b[0mis_training\u001b[0m \u001b[0;34m=\u001b[0m \u001b[0mbuild_model\u001b[0m\u001b[0;34m(\u001b[0m\u001b[0mx\u001b[0m\u001b[0;34m,\u001b[0m \u001b[0mnum_classes\u001b[0m\u001b[0;34m)\u001b[0m\u001b[0;34m\u001b[0m\u001b[0m\n\u001b[1;32m      3\u001b[0m \u001b[0mloss\u001b[0m \u001b[0;34m=\u001b[0m \u001b[0mbuild_loss\u001b[0m\u001b[0;34m(\u001b[0m\u001b[0;34m)\u001b[0m\u001b[0;34m\u001b[0m\u001b[0m\n",
      "\u001b[0;31mNameError\u001b[0m: name 'build_inputs' is not defined"
     ]
    }
   ],
   "source": [
    "x, y = build_inputs()\n",
    "logits, is_training = build_model(x, num_classes)\n",
    "loss = build_loss()"
   ]
  },
  {
   "cell_type": "markdown",
   "metadata": {},
   "source": [
    "## 3. Training the model"
   ]
  },
  {
   "cell_type": "markdown",
   "metadata": {},
   "source": [
    "### Training one epoch"
   ]
  },
  {
   "cell_type": "code",
   "execution_count": null,
   "metadata": {
    "collapsed": true
   },
   "outputs": [],
   "source": [
    "def train(sess):"
   ]
  },
  {
   "cell_type": "markdown",
   "metadata": {},
   "source": [
    "### Validation\n",
    "\n",
    "We usually evaluate the semantic segmentation results with [Intersection over Union](https://en.wikipedia.org/wiki/Jaccard_index) measure (IoU aka Jaccard index). Note that accurracy we used on MNIST image classification problem is a bad measure in this case because semantic segmentation datasets are often heavily imbalanced. First we compute IoU for each class in one-vs-all fashion (shown below) and then take the mean IoU (mIoU) over all classes. By taking the mean we are treating all classes as equally important.\n",
    "$$\n",
    "IOU = \\frac{TP}{TP + FN + FP}\n",
    "$$\n",
    "\n",
    "![iou](assets/iou.png)"
   ]
  },
  {
   "cell_type": "code",
   "execution_count": 11,
   "metadata": {},
   "outputs": [
    {
     "ename": "SyntaxError",
     "evalue": "unexpected EOF while parsing (<ipython-input-11-8ba014eddca4>, line 1)",
     "output_type": "error",
     "traceback": [
      "\u001b[0;36m  File \u001b[0;32m\"<ipython-input-11-8ba014eddca4>\"\u001b[0;36m, line \u001b[0;32m1\u001b[0m\n\u001b[0;31m    def validate(sess):\u001b[0m\n\u001b[0m                       ^\u001b[0m\n\u001b[0;31mSyntaxError\u001b[0m\u001b[0;31m:\u001b[0m unexpected EOF while parsing\n"
     ]
    }
   ],
   "source": [
    "def validate(sess):"
   ]
  },
  {
   "cell_type": "markdown",
   "metadata": {},
   "source": [
    "## 4. Visualizing the results"
   ]
  },
  {
   "cell_type": "code",
   "execution_count": 8,
   "metadata": {
    "collapsed": true
   },
   "outputs": [],
   "source": [
    "# restore the saved model"
   ]
  },
  {
   "cell_type": "markdown",
   "metadata": {
    "collapsed": true
   },
   "source": [
    "## 5. Better model with skip connections\n",
    "\n",
    "TODO slika"
   ]
  },
  {
   "cell_type": "code",
   "execution_count": null,
   "metadata": {},
   "outputs": [],
   "source": []
  },
  {
   "cell_type": "code",
   "execution_count": null,
   "metadata": {
    "collapsed": true
   },
   "outputs": [],
   "source": []
  }
 ],
 "metadata": {
  "kernelspec": {
   "display_name": "Python 3",
   "language": "python",
   "name": "python3"
  },
  "language_info": {
   "codemirror_mode": {
    "name": "ipython",
    "version": 3
   },
   "file_extension": ".py",
   "mimetype": "text/x-python",
   "name": "python",
   "nbconvert_exporter": "python",
   "pygments_lexer": "ipython3",
   "version": "3.6.2"
  }
 },
 "nbformat": 4,
 "nbformat_minor": 2
}
