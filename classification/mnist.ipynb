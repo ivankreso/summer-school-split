{
 "cells": [
  {
   "cell_type": "markdown",
   "metadata": {},
   "source": [
    "This is a basic TensorFlow tutorial."
   ]
  },
  {
   "cell_type": "code",
   "execution_count": null,
   "metadata": {
    "collapsed": true
   },
   "outputs": [],
   "source": [
    "import tensorflow as tf"
   ]
  },
  {
   "cell_type": "markdown",
   "metadata": {},
   "source": [
    "We will be classifying handwritten digits with neural networks.\n",
    "Download the MNIST dataset using the TF's built-in method."
   ]
  },
  {
   "cell_type": "code",
   "execution_count": null,
   "metadata": {
    "collapsed": false
   },
   "outputs": [],
   "source": [
    "from tensorflow.examples.tutorials.mnist import input_data\n",
    "mnist = input_data.read_data_sets(\"MNIST_data/\", one_hot=True)"
   ]
  },
  {
   "cell_type": "markdown",
   "metadata": {},
   "source": [
    "Every MNIST sample has two parts:\n",
    "an image of a handwritten digit and a corresponding label."
   ]
  },
  {
   "cell_type": "code",
   "execution_count": null,
   "metadata": {
    "collapsed": false,
    "scrolled": true
   },
   "outputs": [],
   "source": [
    "def show_sample(index):\n",
    "    image = mnist.train.images[index].reshape(28, 28)\n",
    "    label = mnist.train.labels[index]\n",
    "\n",
    "    import matplotlib.pyplot as plt\n",
    "    plt.imshow(image, cmap='Greys')\n",
    "    plt.show()\n",
    "    plt.clf()\n",
    "    plt.cla()\n",
    "    plt.close()\n",
    "    print('label[%d]: %s' % (index, str(label)))\n",
    "\n",
    "show_sample(10)\n",
    "show_sample(24)\n",
    "show_sample(12)\n",
    "show_sample(11)\n",
    "show_sample(18)"
   ]
  },
  {
   "cell_type": "markdown",
   "metadata": {
    "collapsed": true
   },
   "source": [
    "A neural network should output a 10-dimensional vector with a maximum at an appropriate place.\n",
    "\n",
    "For the label\n",
    "$$(0, 0, 1, 0, 0, 0, 0, 0, 0, 0)$$\n",
    "we should get, for example,\n",
    "$$(0.05, 0.03, 0.82, 0.02, 0.01, 0.02, 0.01, 0.02, 0.01, 0.1)$$"
   ]
  },
  {
   "cell_type": "markdown",
   "metadata": {},
   "source": [
    "The softmax normalization for an array $s_1, s_2, \\ldots, s_{10}$ is\n",
    "\n",
    "$$\n",
    "    p_i=\n",
    "    \\text{softmax}(s_i)=\n",
    "    \\frac{e^{s_i}}{\\sum_{j=1}^{10} e^{s_j}}\n",
    "$$"
   ]
  },
  {
   "cell_type": "code",
   "execution_count": null,
   "metadata": {
    "collapsed": true
   },
   "outputs": [],
   "source": []
  }
 ],
 "metadata": {
  "kernelspec": {
   "display_name": "Python 3",
   "language": "python",
   "name": "python3"
  },
  "language_info": {
   "codemirror_mode": {
    "name": "ipython",
    "version": 3
   },
   "file_extension": ".py",
   "mimetype": "text/x-python",
   "name": "python",
   "nbconvert_exporter": "python",
   "pygments_lexer": "ipython3",
   "version": "3.6.0"
  }
 },
 "nbformat": 4,
 "nbformat_minor": 2
}
